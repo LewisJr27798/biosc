{
 "cells": [
  {
   "cell_type": "markdown",
   "id": "ad382868",
   "metadata": {},
   "source": [
    "# biosc - diagnostics: isochrones and $A(Li)$ model comparison"
   ]
  },
  {
   "cell_type": "code",
   "execution_count": 1,
   "id": "cccd1fed",
   "metadata": {},
   "outputs": [],
   "source": [
    "import numpy as np\n",
    "import pandas as pd\n",
    "import matplotlib.pyplot as plt\n",
    "from matplotlib.path import Path\n",
    "import pymc as pm\n",
    "import arviz as az\n",
    "import bambi as bmb\n",
    "import xarray as xr\n",
    "import biosc\n",
    "import biosc.preprocessing\n",
    "import matplotlib.ticker as ticker\n",
    "\n",
    "from pymc import HalfCauchy, Model, Normal, sample\n",
    "\n",
    "import os\n",
    "import matplotlib.cm as cm\n",
    "from netCDF4 import Dataset as NetCDFFile\n",
    "from scipy.stats import gaussian_kde\n",
    "\n",
    "from biosc.preprocessing import Preprocessing\n",
    "from biosc.bhm import BayesianModel\n",
    "\n",
    "import sys\n",
    "sys.path.append('/pcdisk/dalen/lgonzalez/OneDrive/Escritorio/CAB_INTA-CSIC/01-Doctorado/013-Jupyter/0134-biosc_env/')\n",
    "\n",
    "import bmp\n",
    "from bmp import BayesianModelPlots"
   ]
  },
  {
   "cell_type": "code",
   "execution_count": 2,
   "id": "602e7ff9",
   "metadata": {},
   "outputs": [],
   "source": [
    "plt.rcParams.update({'font.size': 14, 'axes.linewidth': 1, 'axes.edgecolor': 'k'})\n",
    "plt.rcParams['font.family'] = 'serif'"
   ]
  },
  {
   "cell_type": "markdown",
   "id": "1294ba40",
   "metadata": {},
   "source": [
    "data_file = 'test_ALi_low_clean_only_good.csv'\n",
    "file = 'output_test_UCDs_low_clean_only_good_uninf.nc'\n",
    "path_data = '/pcdisk/dalen/lgonzalez/OneDrive/Escritorio/CAB_INTA-CSIC/01-Doctorado/013-Jupyter/0134-biosc_env/data/test_ALi_low_clean_only_good.csv'\n",
    "path_models = '/pcdisk/dalen/lgonzalez/OneDrive/Escritorio/CAB_INTA-CSIC/01-Doctorado/013-Jupyter/0134-biosc_env/data/BT-Settl_all_Myr_Gaia+2MASS+PanSTARRS.csv'\n",
    "L = 10\n",
    "priors = {\n",
    "    'Age [Myr]': {'dist': 'uniform', 'lower': 60, 'upper': 150},\n",
    "    'Distance [pc]': {'dist': 'normal', 'mu': 135, 'sigma': 20}\n",
    "}\n",
    "ages = [0.02, 0.08, 0.12, 0.5]\n",
    "colormap = 'turbo'\n",
    "plot_type = 'all'\n",
    "\n",
    "bayesian_plots = BayesianModelPlots(data_file, priors, file, path_data, path_models, L, ages, colormap)\n",
    "bayesian_plots.process_idata(plot_type=plot_type)"
   ]
  },
  {
   "cell_type": "markdown",
   "id": "c17e7645",
   "metadata": {},
   "source": [
    "### Pleiades data"
   ]
  },
  {
   "cell_type": "code",
   "execution_count": 3,
   "id": "e840605b",
   "metadata": {},
   "outputs": [],
   "source": [
    "data_obs_Pleiades = pd.read_csv('/pcdisk/dalen/lgonzalez/OneDrive/Escritorio/CAB_INTA-CSIC/01-Doctorado/013-Jupyter/0134-biosc_env/data/Pleiades_DANCe+GDR3+2MASS+PanSTARRS1+A_Li.csv')\n",
    "\n",
    "data_obs_Pleiades.rename(columns={'g_error': 'e_g', 'rp_error': 'e_rp', 'bp_error': 'e_bp'}, inplace=True)\n",
    "data_obs_Pleiades.columns"
   ]
  },
  {
   "cell_type": "code",
   "execution_count": 4,
   "id": "de36b73b",
   "metadata": {},
   "outputs": [],
   "source": [
    "distance_obs = 1 / (data_obs_Pleiades['parallax'] * 1e-3)\n",
    "distance_mod_obs = 5 * np.log10(distance_obs) - 5  \n",
    "data_obs_Pleiades['g_abs'] = data_obs_Pleiades['g'] - distance_mod_obs\n",
    "data_obs_Pleiades['bp_abs'] = data_obs_Pleiades['bp'] - distance_mod_obs\n",
    "data_obs_Pleiades['rp_abs'] = data_obs_Pleiades['rp'] - distance_mod_obs\n",
    "data_obs_Pleiades['Jmag_abs'] = data_obs_Pleiades['Jmag'] - distance_mod_obs\n",
    "data_obs_Pleiades['Hmag_abs'] = data_obs_Pleiades['Hmag'] - distance_mod_obs\n",
    "data_obs_Pleiades['Kmag_abs'] = data_obs_Pleiades['Kmag'] - distance_mod_obs\n",
    "data_obs_Pleiades['rmag_abs'] = data_obs_Pleiades['rmag'] - distance_mod_obs\n",
    "data_obs_Pleiades['imag_abs'] = data_obs_Pleiades['imag'] - distance_mod_obs\n",
    "data_obs_Pleiades['ymag_abs'] = data_obs_Pleiades['ymag'] - distance_mod_obs\n",
    "data_obs_Pleiades['zmag_abs'] = data_obs_Pleiades['zmag'] - distance_mod_obs"
   ]
  },
  {
   "cell_type": "markdown",
   "id": "b416e6ee",
   "metadata": {},
   "source": [
    "### PARSEC"
   ]
  },
  {
   "cell_type": "code",
   "execution_count": 5,
   "id": "edba07e0",
   "metadata": {},
   "outputs": [],
   "source": [
    "PARSEC_iso_omega_00 = np.loadtxt('/pcdisk/dalen/lgonzalez/OneDrive/Escritorio/CAB_INTA-CSIC/01-Doctorado/013-Jupyter/0134-biosc_env/data/PARSEC_iso_omega_06.dat')\n"
   ]
  },
  {
   "cell_type": "code",
   "execution_count": 6,
   "id": "b441936e",
   "metadata": {},
   "outputs": [],
   "source": [
    "len(PARSEC_iso_omega_00)"
   ]
  },
  {
   "cell_type": "code",
   "execution_count": 7,
   "id": "ea7cbc51",
   "metadata": {},
   "outputs": [],
   "source": [
    "with open('/pcdisk/dalen/lgonzalez/OneDrive/Escritorio/CAB_INTA-CSIC/01-Doctorado/013-Jupyter/0134-biosc_env/data/PARSEC_iso_omega_06.dat', 'r') as file:\n",
    "    for i, line in enumerate(file):\n",
    "        if i == 14:\n",
    "            columns = line.strip().lstrip('#').split()\n",
    "            break"
   ]
  },
  {
   "cell_type": "code",
   "execution_count": 8,
   "id": "5e367a1c",
   "metadata": {},
   "outputs": [],
   "source": [
    "PARSEC_iso_omega_00_dataframe = pd.DataFrame(PARSEC_iso_omega_00, columns=columns)\n"
   ]
  },
  {
   "cell_type": "code",
   "execution_count": 9,
   "id": "57761ea2",
   "metadata": {},
   "outputs": [],
   "source": [
    "PARSEC_iso_omega_00_dataframe"
   ]
  },
  {
   "cell_type": "code",
   "execution_count": 10,
   "id": "e6b9dfd2",
   "metadata": {},
   "outputs": [],
   "source": [
    "PARSEC_iso_omega_00_dataframe.rename(columns={'Mass': 'M/Ms'}, inplace=True)"
   ]
  },
  {
   "cell_type": "code",
   "execution_count": 11,
   "id": "aa024e4d",
   "metadata": {},
   "outputs": [],
   "source": [
    "PARSEC_iso_omega_00_dataframe.columns[0:50]"
   ]
  },
  {
   "cell_type": "code",
   "execution_count": 12,
   "id": "d390264d",
   "metadata": {},
   "outputs": [],
   "source": [
    "PARSEC_iso_omega_00_dataframe['M/Ms']"
   ]
  },
  {
   "cell_type": "code",
   "execution_count": 13,
   "id": "e0159d56",
   "metadata": {},
   "outputs": [],
   "source": [
    "PARSEC_iso_omega_00_dataframe['Age [Gyr]'] = (10**(PARSEC_iso_omega_00_dataframe['logAge']))/(1e9)"
   ]
  },
  {
   "cell_type": "code",
   "execution_count": 14,
   "id": "63dc91b0",
   "metadata": {},
   "outputs": [],
   "source": [
    "PARSEC_iso_omega_00_dataframe.to_csv('PARSEC_iso_omega_06.csv', index=False)\n"
   ]
  },
  {
   "cell_type": "code",
   "execution_count": 15,
   "id": "479a054b",
   "metadata": {},
   "outputs": [],
   "source": [
    "lib = ['Gaia', '2MASS', 'PanSTARRS']\n",
    "\n",
    "PARSEC_iso_omega_00_Phot = {}\n",
    "\n",
    "for l in lib:\n",
    "    data = np.loadtxt('/pcdisk/dalen/lgonzalez/OneDrive/Escritorio/CAB_INTA-CSIC/01-Doctorado/013-Jupyter/0134-biosc_env/data/PARSEC_iso_omega_00_'+l+'.dat')\n",
    "    \n",
    "    # Leer la fila 15 para obtener los nombres de las columnas\n",
    "    with open('/pcdisk/dalen/lgonzalez/OneDrive/Escritorio/CAB_INTA-CSIC/01-Doctorado/013-Jupyter/0134-biosc_env/data/PARSEC_iso_omega_00_'+l+'.dat', 'r') as file:\n",
    "        for i, line in enumerate(file):\n",
    "            if i == 14:\n",
    "                columns = line.strip().lstrip('#').split()\n",
    "                break\n",
    "    \n",
    "    # Crear un DataFrame con los datos y los nombres de las columnas\n",
    "    dataframe = pd.DataFrame(data, columns=columns)\n",
    "    \n",
    "    dataframe.rename(columns={'Mass': 'M/Ms'}, inplace=True)\n",
    "    \n",
    "    # Guardar el DataFrame en el diccionario con el nombre correspondiente\n",
    "    PARSEC_iso_omega_00_Phot[l] = dataframe\n",
    "    \n",
    "    PARSEC_iso_omega_00_Phot[l]['Age [Gyr]'] = (10**(PARSEC_iso_omega_00_Phot[l]['logAge']))/(1e9)\n",
    "    \n",
    "common_columns = PARSEC_iso_omega_00_Phot['Gaia'].columns[:35]\n",
    "\n",
    "dataframes_concatenate = [df for df in PARSEC_iso_omega_00_Phot.values()]\n",
    "\n",
    "dataframe_final = pd.concat(dataframes_concatenate, axis=1)\n",
    "\n",
    "dataframe_final = dataframe_final.loc[:,~dataframe_final.columns.duplicated()]\n",
    "\n",
    "dataframe_final.to_csv('/pcdisk/dalen/lgonzalez/OneDrive/Escritorio/CAB_INTA-CSIC/01-Doctorado/013-Jupyter/0134-biosc_env/data/PARSEC_iso_omega_00_Phot.csv', index=False)\n",
    "\n",
    "PARSEC_iso_omega_00_Phot_dict = {}\n",
    "\n",
    "for age in dataframe_final['Age [Gyr]'].unique():\n",
    "    dataframe_by_age = dataframe_final[dataframe_final['Age [Gyr]'] == age]\n",
    "    dataframe_by_age = dataframe_by_age.loc[dataframe_by_age['G_i00'] > 0].reset_index(drop=True)\n",
    "    PARSEC_iso_omega_00_Phot_dict[age] = dataframe_by_age\n"
   ]
  },
  {
   "cell_type": "code",
   "execution_count": 16,
   "id": "06883afe",
   "metadata": {},
   "outputs": [],
   "source": [
    "dataframe_final['Age [Gyr]']"
   ]
  },
  {
   "cell_type": "code",
   "execution_count": 17,
   "id": "26621c5f",
   "metadata": {},
   "outputs": [],
   "source": [
    "PARSEC_iso_omega_00_Phot['Gaia'].columns"
   ]
  },
  {
   "cell_type": "code",
   "execution_count": 18,
   "id": "498ec740",
   "metadata": {},
   "outputs": [],
   "source": [
    "PARSEC_iso_omega_00_Phot_dict = {round(key, 3): value for key, value in PARSEC_iso_omega_00_Phot_dict.items()}\n"
   ]
  },
  {
   "cell_type": "code",
   "execution_count": 19,
   "id": "4ac70aaa",
   "metadata": {},
   "outputs": [],
   "source": [
    "PARSEC_iso_omega_00_Phot_dict.keys()"
   ]
  },
  {
   "cell_type": "markdown",
   "id": "f83be5ec",
   "metadata": {},
   "source": [
    "### BT-Settl"
   ]
  },
  {
   "cell_type": "code",
   "execution_count": 20,
   "id": "a491f91e",
   "metadata": {},
   "outputs": [],
   "source": [
    "path_models = '/pcdisk/dalen/lgonzalez/OneDrive/Escritorio/CAB_INTA-CSIC/01-Doctorado/013-Jupyter/0134-biosc_env/data/BT-Settl_all_Myr_Gaia+2MASS+PanSTARRS.csv'\n"
   ]
  },
  {
   "cell_type": "code",
   "execution_count": 21,
   "id": "5a1414fd",
   "metadata": {},
   "outputs": [],
   "source": [
    "BTSettl = pd.read_csv(path_models)\n",
    "BTSettl"
   ]
  },
  {
   "cell_type": "code",
   "execution_count": 22,
   "id": "2ffaa7b8",
   "metadata": {},
   "outputs": [],
   "source": [
    "BTSettl.rename(columns={\n",
    "    'age_Myr': 'age_Gyr',\n",
    "    'Teff(K)': 'Teff',\n",
    "    'G_RP': 'RP',\n",
    "    'G_BP': 'BP',\n",
    "    'r_p1': 'r',\n",
    "    'i_p1': 'i',\n",
    "    'y_p1': 'y',\n",
    "    'z_p1': 'z'}, inplace=True)\n",
    "\n",
    "BTSettl['age_Gyr'] *= 0.001\n",
    "BTSettl['A(Li)'] = np.log10(BTSettl['Li']) + 3.3\n",
    "\n",
    "# Create a dictionary to store dataframes for each isochrone\n",
    "BTSettl_Li_isochrones = {}\n",
    "\n",
    "# Loop over each row in the model dataframe\n",
    "for index, row in BTSettl.iterrows():\n",
    "    # Get the value of age_Gyr from the current row\n",
    "    age_Gyr = row['age_Gyr']\n",
    "\n",
    "    # Check if the value of age_Gyr already exists as a key in the dictionary\n",
    "    if age_Gyr not in BTSettl_Li_isochrones:\n",
    "        # If it doesn't exist, create a new entry in the dictionary with the value of age_Gyr as the key\n",
    "        BTSettl_Li_isochrones[age_Gyr] = []\n",
    "\n",
    "    # Add the current row to the corresponding value of age_Gyr in the dictionary\n",
    "    BTSettl_Li_isochrones[age_Gyr].append(row)\n",
    "\n",
    "# Convert each list of rows into a dataframe and replace the list in the dictionary\n",
    "for age_Gyr, rows in BTSettl_Li_isochrones.items():\n",
    "    BTSettl_Li_isochrones[age_Gyr] = pd.DataFrame(rows)\n",
    "\n"
   ]
  },
  {
   "cell_type": "code",
   "execution_count": 23,
   "id": "48767c22",
   "metadata": {},
   "outputs": [],
   "source": [
    "BTSettl_Li_isochrones[0.08]"
   ]
  },
  {
   "cell_type": "markdown",
   "id": "9128001d",
   "metadata": {},
   "source": [
    "### MIST"
   ]
  },
  {
   "cell_type": "code",
   "execution_count": 24,
   "id": "8690854e",
   "metadata": {},
   "outputs": [],
   "source": [
    "import sys\n",
    "sys.path.append('/pcdisk/dalen/lgonzalez/OneDrive/Escritorio/CAB_INTA-CSIC/01-Doctorado/013-Jupyter/0134-biosc_env/')"
   ]
  },
  {
   "cell_type": "code",
   "execution_count": 25,
   "id": "11135f25",
   "metadata": {},
   "outputs": [],
   "source": [
    "import read_mist_models"
   ]
  },
  {
   "cell_type": "code",
   "execution_count": 26,
   "id": "e812998d",
   "metadata": {},
   "outputs": [],
   "source": [
    "iso_00_00_G2 = read_mist_models.ISOCMD('/pcdisk/dalen/lgonzalez/OneDrive/Escritorio/CAB_INTA-CSIC/01-Doctorado/013-Jupyter/0134-biosc_env/data/MIST_v1.2_feh_p0.00_afe_p0.0_vvcrit0.0_UBVRIplus.iso.cmd')\n"
   ]
  },
  {
   "cell_type": "code",
   "execution_count": 27,
   "id": "501d1980",
   "metadata": {},
   "outputs": [],
   "source": [
    "print('version: ', iso_00_00_G2.version)\n",
    "print('abundances: ', iso_00_00_G2.abun)\n",
    "print('rotation: ', iso_00_00_G2.rot)\n",
    "print('ages: ', [round(x,2) for x in iso_00_00_G2.ages])\n",
    "print('number of ages: ', iso_00_00_G2.num_ages)\n",
    "print('available columns: ', iso_00_00_G2.hdr_list)"
   ]
  },
  {
   "cell_type": "code",
   "execution_count": 28,
   "id": "92181c17",
   "metadata": {},
   "outputs": [],
   "source": [
    "iso_00_00_P = read_mist_models.ISOCMD('/pcdisk/dalen/lgonzalez/OneDrive/Escritorio/CAB_INTA-CSIC/01-Doctorado/013-Jupyter/0134-biosc_env/data/MIST_v1.2_feh_p0.00_afe_p0.0_vvcrit0.0_PanSTARRS.iso.cmd')"
   ]
  },
  {
   "cell_type": "code",
   "execution_count": 29,
   "id": "c37146c6",
   "metadata": {},
   "outputs": [],
   "source": [
    "print('version: ', iso_00_00_P.version)\n",
    "print('abundances: ', iso_00_00_P.abun)\n",
    "print('rotation: ', iso_00_00_P.rot)\n",
    "print('ages: ', [round(x,2) for x in iso_00_00_P.ages])\n",
    "print('number of ages: ', iso_00_00_P.num_ages)\n",
    "print('available columns: ', iso_00_00_P.hdr_list)"
   ]
  },
  {
   "cell_type": "code",
   "execution_count": 30,
   "id": "e0461e3b",
   "metadata": {},
   "outputs": [],
   "source": [
    "def isocmd_to_dataframe(isocmd_set, ages):\n",
    "    data_dict = {}\n",
    "    for age, isocmd in zip(ages, isocmd_set):\n",
    "        data_dict[age] = pd.DataFrame(isocmd)\n",
    "    return data_dict\n",
    "\n",
    "filename_iso_P = '/pcdisk/dalen/lgonzalez/OneDrive/Escritorio/CAB_INTA-CSIC/01-Doctorado/013-Jupyter/0134-biosc_env/data/MIST_v1.2_feh_p0.00_afe_p0.0_vvcrit0.0_PanSTARRS.iso.cmd'\n",
    "filename_iso_G2 = '/pcdisk/dalen/lgonzalez/OneDrive/Escritorio/CAB_INTA-CSIC/01-Doctorado/013-Jupyter/0134-biosc_env/data/MIST_v1.2_feh_p0.00_afe_p0.0_vvcrit0.0_UBVRIplus.iso.cmd'\n",
    "\n",
    "iso_P = read_mist_models.ISOCMD(filename_iso_P)\n",
    "iso_G2 = read_mist_models.ISOCMD(filename_iso_G2)\n",
    "\n",
    "ages_P_sorted = sorted(iso_P.ages)\n",
    "ages_G2_sorted = sorted(iso_G2.ages)\n",
    "\n",
    "MIST_P = isocmd_to_dataframe(iso_P.isocmds, ages_P_sorted)\n",
    "MIST_G2 = isocmd_to_dataframe(iso_G2.isocmds, ages_G2_sorted)\n",
    "\n",
    "MIST_P = {round((10 ** age) / 1e9, 4): df for age, df in MIST_P.items()}\n",
    "MIST_G2 = {round((10 ** age) / 1e9, 4): df for age, df in MIST_G2.items()}\n"
   ]
  },
  {
   "cell_type": "code",
   "execution_count": 31,
   "id": "8079fa51",
   "metadata": {},
   "outputs": [],
   "source": [
    "MIST_P.keys()"
   ]
  },
  {
   "cell_type": "code",
   "execution_count": 32,
   "id": "f4de1e29",
   "metadata": {},
   "outputs": [],
   "source": [
    "MIST_P[0.0794]"
   ]
  },
  {
   "cell_type": "code",
   "execution_count": 33,
   "id": "541ba4d6",
   "metadata": {},
   "outputs": [],
   "source": [
    "MIST_G2[0.0794]"
   ]
  },
  {
   "cell_type": "code",
   "execution_count": 34,
   "id": "0e75f28d",
   "metadata": {},
   "outputs": [],
   "source": [
    "MIST_00_00 = {}\n",
    "\n",
    "for age in MIST_P.keys():\n",
    "    if age in MIST_G2:\n",
    "        df_P = MIST_P[age]\n",
    "        df_G2 = MIST_G2[age]\n",
    "        \n",
    "        combined_df = pd.concat([df_P.iloc[:, :9], df_P.iloc[:, 9:], df_G2.iloc[:, 9:]], axis=1)\n",
    "        combined_df = combined_df.loc[combined_df['Gaia_G_EDR3'] > 0].reset_index(drop=True)\n",
    "        MIST_00_00[age] = combined_df\n"
   ]
  },
  {
   "cell_type": "code",
   "execution_count": 35,
   "id": "8b3a3933",
   "metadata": {},
   "outputs": [],
   "source": [
    "MIST_00_00[0.0794].columns"
   ]
  },
  {
   "cell_type": "code",
   "execution_count": 36,
   "id": "20666153",
   "metadata": {},
   "outputs": [],
   "source": [
    "column_mapping = {\n",
    "    'star_mass': 'M/Ms',\n",
    "    'Gaia_G_EDR3': 'G',\n",
    "    'Gaia_BP_EDR3': 'BP',\n",
    "    'Gaia_RP_EDR3': 'RP',\n",
    "    '2MASS_J': 'J',\n",
    "    '2MASS_H': 'H',\n",
    "    '2MASS_Ks': 'K',\n",
    "    'PS_g': 'g',\n",
    "    'PS_r': 'r',\n",
    "    'PS_i': 'i',\n",
    "    'PS_z': 'z',\n",
    "    'PS_y': 'y',\n",
    "    'PS_w': 'w'\n",
    "}\n",
    "\n",
    "for age, df in MIST_00_00.items():\n",
    "    MIST_00_00[age] = df.rename(columns=column_mapping)"
   ]
  },
  {
   "cell_type": "code",
   "execution_count": 37,
   "id": "003bddb3",
   "metadata": {},
   "outputs": [],
   "source": [
    "MIST_00_00[0.0794].columns"
   ]
  },
  {
   "cell_type": "code",
   "execution_count": 38,
   "id": "a8a15ac6",
   "metadata": {},
   "outputs": [],
   "source": [
    "iso_00_04_G2 = read_mist_models.ISOCMD('/pcdisk/dalen/lgonzalez/OneDrive/Escritorio/CAB_INTA-CSIC/01-Doctorado/013-Jupyter/0134-biosc_env/data/MIST_v1.2_feh_p0.00_afe_p0.0_vvcrit0.4_UBVRIplus.iso.cmd')\n"
   ]
  },
  {
   "cell_type": "code",
   "execution_count": 39,
   "id": "aa068b5e",
   "metadata": {},
   "outputs": [],
   "source": [
    "iso_00_04_P = read_mist_models.ISOCMD('/pcdisk/dalen/lgonzalez/OneDrive/Escritorio/CAB_INTA-CSIC/01-Doctorado/013-Jupyter/0134-biosc_env/data/MIST_v1.2_feh_p0.00_afe_p0.0_vvcrit0.4_PanSTARRS.iso.cmd')"
   ]
  },
  {
   "cell_type": "code",
   "execution_count": 40,
   "id": "97af58a5",
   "metadata": {},
   "outputs": [],
   "source": [
    "filename_iso_P = '/pcdisk/dalen/lgonzalez/OneDrive/Escritorio/CAB_INTA-CSIC/01-Doctorado/013-Jupyter/0134-biosc_env/data/MIST_v1.2_feh_p0.00_afe_p0.0_vvcrit0.4_PanSTARRS.iso.cmd'\n",
    "filename_iso_G2 = '/pcdisk/dalen/lgonzalez/OneDrive/Escritorio/CAB_INTA-CSIC/01-Doctorado/013-Jupyter/0134-biosc_env/data/MIST_v1.2_feh_p0.00_afe_p0.0_vvcrit0.4_UBVRIplus.iso.cmd'\n",
    "\n",
    "iso_P = read_mist_models.ISOCMD(filename_iso_P)\n",
    "iso_G2 = read_mist_models.ISOCMD(filename_iso_G2)\n",
    "\n",
    "ages_P_sorted = sorted(iso_P.ages)\n",
    "ages_G2_sorted = sorted(iso_G2.ages)\n",
    "\n",
    "MIST_P = isocmd_to_dataframe(iso_P.isocmds, ages_P_sorted)\n",
    "MIST_G2 = isocmd_to_dataframe(iso_G2.isocmds, ages_G2_sorted)\n",
    "\n",
    "MIST_P = {round((10 ** age) / 1e9, 4): df for age, df in MIST_P.items()}\n",
    "MIST_G2 = {round((10 ** age) / 1e9, 4): df for age, df in MIST_G2.items()}\n"
   ]
  },
  {
   "cell_type": "code",
   "execution_count": 41,
   "id": "58c590b3",
   "metadata": {},
   "outputs": [],
   "source": [
    "MIST_00_04 = {}\n",
    "\n",
    "for age in MIST_P.keys():\n",
    "    if age in MIST_G2:\n",
    "        df_P = MIST_P[age]\n",
    "        df_G2 = MIST_G2[age]\n",
    "        \n",
    "        combined_df = pd.concat([df_P.iloc[:, :9], df_P.iloc[:, 9:], df_G2.iloc[:, 9:]], axis=1)\n",
    "        combined_df = combined_df.loc[combined_df['Gaia_G_EDR3'] > 0].reset_index(drop=True)\n",
    "        MIST_00_04[age] = combined_df\n"
   ]
  },
  {
   "cell_type": "code",
   "execution_count": 42,
   "id": "f2be3b6f",
   "metadata": {},
   "outputs": [],
   "source": [
    "for age, df in MIST_00_04.items():\n",
    "    MIST_00_04[age] = df.rename(columns=column_mapping)"
   ]
  },
  {
   "cell_type": "code",
   "execution_count": 43,
   "id": "169d0f6b",
   "metadata": {},
   "outputs": [],
   "source": [
    "MIST_00_04[0.0794].columns"
   ]
  },
  {
   "cell_type": "markdown",
   "id": "ccfd8194",
   "metadata": {},
   "source": [
    "### MIST $A(Li)$"
   ]
  },
  {
   "cell_type": "code",
   "execution_count": null,
   "id": "5cf053f8",
   "metadata": {},
   "outputs": [],
   "source": []
  },
  {
   "cell_type": "markdown",
   "id": "aba5f419",
   "metadata": {},
   "source": [
    "### Isochrones plots"
   ]
  },
  {
   "cell_type": "code",
   "execution_count": 44,
   "id": "4ec461cd",
   "metadata": {},
   "outputs": [],
   "source": [
    "len(BTSettl_Li_isochrones[0.120]['G'])"
   ]
  },
  {
   "cell_type": "code",
   "execution_count": 45,
   "id": "1a68e16e",
   "metadata": {
    "scrolled": false
   },
   "outputs": [],
   "source": [
    "def plot_isochrones(model1_dict, model2_dict, band1m1, band2m1, band1m2, band2m2, mod1, mod2):\n",
    "    # Set the font size\n",
    "    plt.rcParams.update({'font.size': 26})\n",
    "\n",
    "    # Create the figure and subplots\n",
    "    fig, axs = plt.subplots(4, 1, figsize=(10, 28), sharex=True)\n",
    "\n",
    "    # List of isochrones to use\n",
    "    isochrones = [0.02, 0.08, 0.12, 0.6]\n",
    "\n",
    "    # Iterate over each subplot and plot\n",
    "    for i, ax in enumerate(axs):\n",
    "        isochrone = isochrones[i]\n",
    "        ax.plot(model1_dict[isochrone][band1m1] - model1_dict[isochrone][band2m1], model1_dict[isochrone][band1m1], label=f'{mod1}')\n",
    "        isochrone_parsec = min(model2_dict.keys(), key=lambda x: abs(x - isochrone))\n",
    "        ax.plot(model2_dict[isochrone_parsec][band1m2] - model2_dict[isochrone_parsec][band2m2], model2_dict[isochrone_parsec][band1m2], label=f'{mod2}')   \n",
    "        # Set labels and axes adjustments\n",
    "        if i == 3:  # Only the last subplot has labels and ticks\n",
    "            ax.set_xlabel(f'{band1m1}-{band2m1} [mag]')\n",
    "            ax.set_ylabel(f'{band1m1} [mag]')\n",
    "            if band2m1 == 'RP':\n",
    "                ax.set_xlim(0, 1.6)\n",
    "                ax.set_ylim(1, 15.5)\n",
    "            elif band2m1 == 'J':\n",
    "                ax.set_xlim(0, 6.5)\n",
    "                ax.set_ylim(1, 18.75)\n",
    "            elif band2m1 == 'K':\n",
    "                ax.set_xlim(0, 2.5)\n",
    "                ax.set_ylim(1, 18.75)\n",
    "            elif band2m1 == 'y':\n",
    "                ax.set_xlim(0, 2.8)\n",
    "                ax.set_ylim(1, 18.75)\n",
    "            elif band2m1 == 'z':\n",
    "                ax.set_xlim(0, 3.25)\n",
    "                ax.set_ylim(1, 18.75)\n",
    "            ax.xaxis.set_major_locator(ticker.AutoLocator())\n",
    "            ax.xaxis.set_major_formatter(ticker.ScalarFormatter())\n",
    "            ax.legend()\n",
    "        else:  # Hide labels and ticks for other subplots\n",
    "            if band2m1 == 'RP':\n",
    "                ax.set_xlim(0, 1.6)\n",
    "                ax.set_ylim(1, 15.5)\n",
    "            elif band2m1 == 'J':\n",
    "                ax.set_xlim(0, 6.5)\n",
    "                ax.set_ylim(1, 18.75)\n",
    "            elif band2m1 == 'K':\n",
    "                ax.set_xlim(0, 2.5)\n",
    "                ax.set_ylim(1, 18.75)\n",
    "            elif band2m1 == 'y':\n",
    "                ax.set_xlim(0, 2.8)\n",
    "                ax.set_ylim(1, 18.75)\n",
    "            elif band2m1 == 'z':\n",
    "                ax.set_xlim(0, 3.25)\n",
    "                ax.set_ylim(1, 18.75)\n",
    "            ax.set_ylabel(f'{band1m1} [mag]')\n",
    "            ax.set_xticklabels([])\n",
    "            ax.tick_params(axis='both', which='both', length=5)\n",
    "            ax.yaxis.get_major_ticks()[0].label1.set_visible(False)\n",
    "        ax.invert_yaxis()\n",
    "\n",
    "    # Adjust the spacing between subplots\n",
    "    plt.subplots_adjust(hspace=0)\n",
    "\n",
    "    # Show the plot\n",
    "    return fig, axs"
   ]
  },
  {
   "cell_type": "markdown",
   "id": "337cf2a7",
   "metadata": {},
   "source": [
    "def plot_isochrones_grid(model1_dict, model2_dict, bands1, bands2, mod1, mod2, filename=None, dpi=350, data_obs=None, obs=False):\n",
    "    # Set the font size\n",
    "    plt.rcParams.update({'font.size': 26})\n",
    "\n",
    "    # Create the figure and subplots\n",
    "    fig, axs = plt.subplots(4, 5, figsize=(55, 28), sharex='col')\n",
    "\n",
    "    # List of isochrones to use\n",
    "    isochrones = [0.02, 0.08, 0.12, 0.6]\n",
    "\n",
    "    # Iterate over each column (band combination)\n",
    "    for i, (band1, band2) in enumerate(zip(bands1, bands2)):\n",
    "        # Initialize variables to store the maximum and minimum x-axis values for this column\n",
    "        max_x_column = float('-inf')\n",
    "        max_y = float('-inf')\n",
    "\n",
    "        # Iterate over each row (isochrone)\n",
    "        for j, isochrone in enumerate(isochrones):\n",
    "            ax = axs[j, i]\n",
    "            isochrone_1 = min(model1_dict.keys(), key=lambda x: abs(x - isochrone))\n",
    "            isochrone_2 = min(model2_dict.keys(), key=lambda x: abs(x - isochrone))\n",
    "\n",
    "            x1 = model1_dict[isochrone_1][band1[0]] - model1_dict[isochrone_1][band1[1]]\n",
    "            y1 = model1_dict[isochrone_1][band1[0]]\n",
    "            x2 = model2_dict[isochrone_2][band2[0]] - model2_dict[isochrone_2][band2[1]]\n",
    "            y2 = model2_dict[isochrone_2][band2[0]]\n",
    "\n",
    "            # Plot the isochrones\n",
    "            ax.plot(x1, y1, label=f'{get_first_word(mod1)}', zorder=2, linewidth=2)\n",
    "            ax.plot(x2, y2, label=f'{get_first_word(mod2)}', zorder=1, linewidth=2)\n",
    "\n",
    "            # Find intersection points\n",
    "            intersection_points = []\n",
    "            for x1_val, y1_val in zip(x1, y1):\n",
    "                for x2_val, y2_val in zip(x2, y2):\n",
    "                    if abs(x1_val - x2_val) < 0.01 and abs(y1_val - y2_val) < 0.01:\n",
    "                        intersection_points.append((x1_val, y1_val))\n",
    "\n",
    "            max_x_column = max(max_x_column, np.max(x1), np.max(x2))\n",
    "            max_y = max(max_y, np.max(y1), np.max(y2))\n",
    "            \n",
    "            # Plot the segment connecting the last intersection point to the axes\n",
    "            if intersection_points:\n",
    "                x_first, y_first = intersection_points[0]\n",
    "                if 0 <= x_first <= max_x_column and 1 <= y_first <= max_y:\n",
    "                    ax.plot([x_first, x_first], [max_y, y_first], color='k', linestyle='--', linewidth=1, zorder=0)\n",
    "                    ax.plot([-0.2, x_first], [y_first, y_first], color='k', linestyle='--', linewidth=1, zorder=0)\n",
    "                    ax.text(x_first+(1/20)*(max_x_column+0.2), y_first-(1/20)*(max_y-1), f'({round(x_first,3)}, {round(y_first,2)})')\n",
    "            \n",
    "            # Plot observational data if available\n",
    "            if obs:\n",
    "                ax.errorbar(data_obs[f'{bandsobs[i][0]}'+'_abs']-data_obs[f'{bandsobs[i][1]}'+'_abs'],\n",
    "                            data_obs[f'{bandsobs[i][0]}'+'_abs'], \n",
    "                            yerr=data_obs['e_'+f'{bandsobs[i][0]}'], fmt='.', label='Obs', zorder=0, color='r')\n",
    "\n",
    "            # Set labels and axes adjustments\n",
    "            if j == 3:  # Only the last row has labels and ticks\n",
    "                ax.set_xlabel(f'{band1[0]}-{band1[1]} [mag]')\n",
    "                ax.set_ylabel(f'{band1[0]} [mag]')\n",
    "                ax.xaxis.set_major_locator(ticker.AutoLocator())\n",
    "                ax.xaxis.set_major_formatter(ticker.ScalarFormatter())\n",
    "                ax.text(0.05, 0.05, f'{isochrone_1} Gyr', transform=ax.transAxes,\n",
    "                        fontsize=28, verticalalignment='bottom', horizontalalignment='left')\n",
    "\n",
    "                if i == len(bands1) - 1:  # Check if this is the last column\n",
    "                    ax.legend(loc='upper right')  # Add legend only for the last column\n",
    "\n",
    "            else:  # Hide labels and ticks for other rows\n",
    "                ax.set_ylabel(f'{band1[0]} [mag]')\n",
    "                ax.set_xticklabels([])\n",
    "                ax.tick_params(axis='both', which='both', length=5)\n",
    "                ax.yaxis.get_major_ticks()[0].label1.set_visible(False)\n",
    "\n",
    "                ax.text(0.05, 0.05, f'{isochrone_1} Gyr', transform=ax.transAxes,\n",
    "                        fontsize=28, verticalalignment='bottom', horizontalalignment='left')\n",
    "\n",
    "                if i == len(bands1) - 1:  # Check if this is the last column\n",
    "                    ax.legend(loc='upper right')  # Add legend only for the last column\n",
    "\n",
    "            ax.set_xlim(-0.2, max_x_column)\n",
    "            ax.set_ylim(1, max_y)\n",
    "            ax.invert_yaxis()\n",
    "\n",
    "    # Adjust the spacing between subplots\n",
    "    plt.subplots_adjust(hspace=0, wspace=0.175)\n",
    "\n",
    "    fig.suptitle(f'CMD Pleiades; {mod1} vs {mod2}', y=0.92)\n",
    "\n",
    "    # Save the plot\n",
    "    if filename:\n",
    "        save_model_comparison(filename, mod1, mod2, dpi=dpi)\n",
    "\n",
    "    # Show the plot\n",
    "    plt.show()"
   ]
  },
  {
   "cell_type": "code",
   "execution_count": 46,
   "id": "0ab79c96",
   "metadata": {},
   "outputs": [],
   "source": [
    "import numpy as np\n",
    "import matplotlib.pyplot as plt\n",
    "from matplotlib.path import Path\n",
    "\n",
    "plt.rcParams.update({'font.size': 10})  # Set the font size\n",
    "\n",
    "def find_intersection(line1, line2):\n",
    "    intersection_points = []\n",
    "    for i in range(len(line1) - 1):\n",
    "        for j in range(len(line2) - 1):\n",
    "            path1 = Path([line1[i], line1[i+1]])\n",
    "            path2 = Path([line2[j], line2[j+1]])\n",
    "            if path1.intersects_path(path2):\n",
    "                x_int, y_int = get_intersection(line1[i], line1[i+1], line2[j], line2[j+1])\n",
    "                intersection_points.append((x_int, y_int))\n",
    "    return intersection_points\n",
    "\n",
    "def get_intersection(p1, p2, p3, p4):\n",
    "    x1, y1 = p1\n",
    "    x2, y2 = p2\n",
    "    x3, y3 = p3\n",
    "    x4, y4 = p4\n",
    "    denom = (x1 - x2) * (y3 - y4) - (y1 - y2) * (x3 - x4)\n",
    "    if denom == 0:\n",
    "        return None, None\n",
    "    x_int = ((x1 * y2 - y1 * x2) * (x3 - x4) - (x1 - x2) * (x3 * y4 - y3 * x4)) / denom\n",
    "    y_int = ((x1 * y2 - y1 * x2) * (y3 - y4) - (y1 - y2) * (x3 * y4 - y3 * x4)) / denom\n",
    "    return x_int, y_int\n",
    "\n",
    "# Datos de ejemplo\n",
    "x1 = np.linspace(0, 20, 10)\n",
    "y1 = 2 * x1 + 1\n",
    "\n",
    "x2 = np.linspace(0, 10, 20)\n",
    "y2 = (4 * x2 + 2)*np.sin(x2)\n",
    "\n",
    "# Encontrar la intersección entre las líneas\n",
    "intersection_points = find_intersection(np.column_stack((x1, y1)), np.column_stack((x2, y2)))\n",
    "\n",
    "# Plot de las líneas\n",
    "plt.plot(x1, y1, label='Línea 1')\n",
    "plt.plot(x2, y2, label='Línea 2')\n",
    "plt.scatter(x1, y1)\n",
    "plt.scatter(x2, y2)\n",
    "\n",
    "# Plot de los puntos de intersección\n",
    "if intersection_points:\n",
    "    intersection_points = np.array(intersection_points)\n",
    "    plt.plot(intersection_points[:, 0], intersection_points[:, 1], 'ro', label='Intersección')\n",
    "\n",
    "print(intersection_points)\n",
    "    \n",
    "\n",
    "plt.legend()\n",
    "plt.show()"
   ]
  },
  {
   "cell_type": "code",
   "execution_count": 47,
   "id": "b5efdbff",
   "metadata": {
    "scrolled": false
   },
   "outputs": [],
   "source": [
    "bands1 = [['G', 'RP'], ['G', 'J'], ['J', 'K'], ['G', 'y'], ['G', 'z']]\n",
    "bands2 = [['G_i00', 'G_RP_i00'], ['G_i00', 'J_i00'], ['J_i00', 'Ks_i00'], ['G_i00', 'yP1_i00'], ['G_i00', 'zP1_i00']]\n",
    "bandsobs = [['g', 'rp'], ['g', 'Jmag'], ['Jmag', 'Kmag'], ['g', 'ymag'], ['g', 'zmag']]\n",
    "\n",
    "\n",
    "# Function to get the first word of a string\n",
    "def get_first_word(string):\n",
    "    return string.split()[0]\n",
    "\n",
    "# Function to save the model comparison\n",
    "def save_model_comparison(filename, mod1, mod2, dpi=400):\n",
    "    mod1_first_word = get_first_word(mod1)\n",
    "    mod2_first_word = get_first_word(mod2)\n",
    "    final_filename = f\"{filename}_{mod1_first_word}_{mod2_first_word}.png\"\n",
    "    plt.savefig(final_filename, dpi=dpi, bbox_inches='tight')\n",
    "\n",
    "# Function to find intersection between two lines\n",
    "def find_intersection(line1, line2):\n",
    "    intersection_points = []\n",
    "    for i in range(len(line1) - 1):\n",
    "        for j in range(len(line2) - 1):\n",
    "            path1 = Path([line1[i], line1[i+1]])\n",
    "            path2 = Path([line2[j], line2[j+1]])\n",
    "            if path1.intersects_path(path2):\n",
    "                x_int, y_int = get_intersection(line1[i], line1[i+1], line2[j], line2[j+1])\n",
    "                intersection_points.append((x_int, y_int))\n",
    "    return intersection_points\n",
    "\n",
    "# Function to find the intersection point between two line segments\n",
    "def get_intersection(p1, p2, p3, p4):\n",
    "    x1, y1 = p1\n",
    "    x2, y2 = p2\n",
    "    x3, y3 = p3\n",
    "    x4, y4 = p4\n",
    "    denom = (x1 - x2) * (y3 - y4) - (y1 - y2) * (x3 - x4)\n",
    "    if denom == 0:\n",
    "        return None, None\n",
    "    x_int = ((x1 * y2 - y1 * x2) * (x3 - x4) - (x1 - x2) * (x3 * y4 - y3 * x4)) / denom\n",
    "    y_int = ((x1 * y2 - y1 * x2) * (y3 - y4) - (y1 - y2) * (x3 * y4 - y3 * x4)) / denom\n",
    "    return x_int, y_int    \n",
    "\n",
    "# Definition of bands\n",
    "bands1 = [['G', 'RP'], ['G', 'J'], ['J', 'K'], ['G', 'y'], ['G', 'z']]\n",
    "bands2 = [['G_i00', 'G_RP_i00'], ['G_i00', 'J_i00'], ['J_i00', 'Ks_i00'], ['G_i00', 'yP1_i00'], ['G_i00', 'zP1_i00']]\n",
    "bandsobs = [['g', 'rp'], ['g', 'Jmag'], ['Jmag', 'Kmag'], ['g', 'ymag'], ['g', 'zmag']]\n",
    "\n",
    "# Main function to plot the isochrones grid\n",
    "def plot_isochrones_grid(model1_dict, model2_dict, bands1, bands2, mod1, mod2, filename=None, dpi=350, data_obs=None, obs=False):\n",
    "    plt.rcParams.update({'font.size': 26})  # Set the font size\n",
    "\n",
    "    fig, axs = plt.subplots(4, 5, figsize=(55, 28), sharex='col')  # Create the figure and subplots\n",
    "    isochrones = [0.02, 0.08, 0.12, 0.6]  # List of isochrones to use\n",
    "    max_mass_labels = 5  # Maximum number of mass labels to show\n",
    "    \n",
    "    legend_labels = {f'{get_first_word(mod1)}': f'{get_first_word(mod1)}',\n",
    "                     f'{get_first_word(mod2)}': f'{get_first_word(mod2)}',\n",
    "                     'Obs': 'Obs'}\n",
    "    \n",
    "    # Iterate over each column (band combination)\n",
    "    for i, (band1, band2) in enumerate(zip(bands1, bands2)):\n",
    "        max_x_column = float('-inf')\n",
    "        max_y = float('-inf')\n",
    "\n",
    "        # Iterate over each row (isochrone)\n",
    "        for j, isochrone in enumerate(isochrones):\n",
    "            ax = axs[j, i]\n",
    "            isochrone_1 = min(model1_dict.keys(), key=lambda x: abs(x - isochrone))\n",
    "            isochrone_2 = min(model2_dict.keys(), key=lambda x: abs(x - isochrone))\n",
    "\n",
    "            model1_df = model1_dict[isochrone_1]\n",
    "            model1_df = model1_df.loc[model1_df['M/Ms'] < 1.5]\n",
    "            model1_df = model1_df.loc[model1_df['M/Ms'] > 0.08]\n",
    "            \n",
    "            model2_df = model2_dict[isochrone_2]\n",
    "            model2_df = model2_df.loc[model2_df['M/Ms'] < 1.5]\n",
    "            model2_df = model2_df.loc[model2_df['M/Ms'] > 0.08]\n",
    "            \n",
    "            min_mm_model1 = min(model1_df['M/Ms'])\n",
    "            min_mm_model2 = min(model2_df['M/Ms'])\n",
    "\n",
    "            mm_values = np.linspace(1.5, min(min_mm_model1, min_mm_model2), 5)\n",
    "\n",
    "            x1 = model1_dict[isochrone_1][band1[0]] - model1_dict[isochrone_1][band1[1]]\n",
    "            y1 = model1_dict[isochrone_1][band1[0]]\n",
    "            x2 = model2_dict[isochrone_2][band2[0]] - model2_dict[isochrone_2][band2[1]]\n",
    "            y2 = model2_dict[isochrone_2][band2[0]]\n",
    "\n",
    "            ax.plot(x1, y1, label=f'{get_first_word(mod1)}', zorder=2, linewidth=2, color='blue')\n",
    "            ax.plot(x2, y2, label=f'{get_first_word(mod2)}', zorder=1, linewidth=2, color='orange')\n",
    "\n",
    "            max_x_column = max(max_x_column, np.max(x1), np.max(x2))\n",
    "            max_y = max(max_y, np.max(y1), np.max(y2))\n",
    "            \n",
    "            for mm_value in mm_values:\n",
    "                closest_row_model1 = model1_df.iloc[(model1_df['M/Ms'] - mm_value).abs().argsort()[:1]]\n",
    "                closest_row_model2 = model2_df.iloc[(model2_df['M/Ms'] - mm_value).abs().argsort()[:1]]\n",
    "\n",
    "                x_mass_model1 = closest_row_model1[band1[0]] - closest_row_model1[band1[1]]\n",
    "                y_mass_model1 = closest_row_model1[band1[0]]\n",
    "                mass_model1 = closest_row_model1['M/Ms']\n",
    "\n",
    "                x_mass_model2 = closest_row_model2[band2[0]] - closest_row_model2[band2[1]]\n",
    "                y_mass_model2 = closest_row_model2[band2[0]]\n",
    "                mass_model2 = closest_row_model2['M/Ms']\n",
    "\n",
    "                for x_mass1, y_mass1, mass1, x_mass2, y_mass2, mass2 in zip(x_mass_model1, y_mass_model1, mass_model1, x_mass_model2, y_mass_model2, mass_model2):\n",
    "                    text = f'{((mass1+mass2)/2):.3f}'\n",
    "                    text_length = len(text) * 0.15  # Estimar la longitud del texto (suponiendo 0.15 como el ancho aproximado por carácter)\n",
    "                    text_height = 0.03  # Estimar la altura del texto (suponiendo 0.03)\n",
    "\n",
    "                    if x_mass2 - x_mass1 < 0:\n",
    "                        text_x = x_mass1 + (1/30)*(max_x_column+0.2)\n",
    "                        ax.text(text_x, y_mass1, text, fontsize=12, color='k')\n",
    "                    elif x_mass1 - x_mass2 < 0:\n",
    "                        text_x = x_mass2 + (1/30)*(max_x_column+0.2)\n",
    "                        ax.text(text_x, y_mass2, text, fontsize=12, color='k')\n",
    "\n",
    "                    ax.plot([x_mass1, x_mass2], [y_mass1, y_mass2], color='k', linewidth=1)\n",
    "\n",
    "            intersection_points = find_intersection(np.column_stack((x1, y1)), np.column_stack((x2, y2)))\n",
    "\n",
    "            if intersection_points:\n",
    "                first_point = intersection_points[-1]\n",
    "                if -0.2 <= first_point[0] <= max_x_column and 1 <= first_point[1] <= max_y:\n",
    "                    ax.plot([-0.2, first_point[0]], [first_point[1], first_point[1]], color='black', linewidth=1, linestyle='--')\n",
    "                    ax.plot([first_point[0], first_point[0]], [max_y, first_point[1]], color='black', linewidth=1, linestyle='--')\n",
    "                    ax.text(0.55, 0.95, f'({first_point[0]:.2f}, {first_point[1]:.2f})', fontsize=18, horizontalalignment='center', verticalalignment='center', transform=ax.transAxes, color='black')  # Adjusted position for text\n",
    "                else:\n",
    "                    pass\n",
    "            \n",
    "            # Plot observational data if available\n",
    "            if obs:\n",
    "                ax.errorbar(data_obs[f'{bandsobs[i][0]}'+'_abs']-data_obs[f'{bandsobs[i][1]}'+'_abs'],\n",
    "                            data_obs[f'{bandsobs[i][0]}'+'_abs'], \n",
    "                            yerr=data_obs['e_'+f'{bandsobs[i][0]}'], fmt='.', alpha=0.125, label='Obs', zorder=0, color='r')\n",
    "\n",
    "            if j == 3:\n",
    "                ax.set_xlabel(f'{band1[0]}-{band1[1]} [mag]')\n",
    "                ax.set_ylabel(f'{band1[0]} [mag]')\n",
    "                ax.xaxis.set_major_locator(ticker.AutoLocator())\n",
    "                ax.xaxis.set_major_formatter(ticker.ScalarFormatter())\n",
    "                ax.text(0.05, 0.05, f'{isochrone_1} Gyr', transform=ax.transAxes, fontsize=28, verticalalignment='bottom', horizontalalignment='left')  # Adjusted position for text\n",
    "\n",
    "            else:\n",
    "                ax.set_ylabel(f'{band1[0]} [mag]')\n",
    "                ax.set_xticklabels([])\n",
    "                ax.tick_params(axis='both', which='both', length=5)\n",
    "\n",
    "                ax.text(0.05, 0.05, f'{isochrone_1} Gyr', transform=ax.transAxes, fontsize=28, verticalalignment='bottom', horizontalalignment='left')  # Adjusted position for text\n",
    "\n",
    "            ax.set_xlim(-0.2, max_x_column+(1/8)*(max_x_column+0.2))\n",
    "            ax.set_ylim(1, max_y)\n",
    "            ax.invert_yaxis()\n",
    "\n",
    "    plt.subplots_adjust(hspace=0, wspace=0.175)\n",
    "    fig.suptitle(f'CMD Pleiades; {mod1} vs {mod2}', y=0.94)\n",
    "    handles, labels = ax.get_legend_handles_labels()\n",
    "    unique_labels = list(set(labels))\n",
    "    legend_handles = [handles[labels.index(label)] for label in unique_labels]\n",
    "    fig.legend(legend_handles, unique_labels, loc='upper center', bbox_to_anchor=(0.5, 0.9225), fontsize=24, ncol=3, edgecolor='black')  # Añadir leyenda debajo del título\n",
    "    if filename:\n",
    "        save_model_comparison(filename, mod1, mod2, dpi=dpi)\n",
    "    plt.show()\n",
    "\n",
    "\n",
    "# Example usage\n",
    "plot_isochrones_grid(BTSettl_Li_isochrones, PARSEC_iso_omega_00_Phot_dict, bands1, bands2, 'BT-Settl $\\odot$', r'PARSEC $\\omega_i=0.0$; $Z=0.001547$', filename='model_comparison', data_obs=data_obs_Pleiades, obs=True)"
   ]
  },
  {
   "cell_type": "code",
   "execution_count": 48,
   "id": "46d946a1",
   "metadata": {},
   "outputs": [],
   "source": [
    "plot_isochrones_grid(BTSettl_Li_isochrones, MIST_00_00, bands1, bands1, 'BT-Settl $\\odot$', r'MIST $v/v_{\\rm crit}=0.0$; [Fe/H]$=0.0$', filename='model_comparison', data_obs=data_obs_Pleiades, obs=True)\n"
   ]
  },
  {
   "cell_type": "code",
   "execution_count": 49,
   "id": "3e94fe95",
   "metadata": {},
   "outputs": [],
   "source": [
    "plot_isochrones_grid(MIST_00_00, PARSEC_iso_omega_00_Phot_dict, bands1, bands2, r'MIST $v/v_{\\rm crit}=0.0$; [Fe/H]$=0.0$', r'PARSEC $\\omega_i=0.0$; $Z=0.001547$', filename='model_comparison', data_obs=data_obs_Pleiades, obs=True)\n"
   ]
  },
  {
   "cell_type": "code",
   "execution_count": null,
   "id": "0fd9a362",
   "metadata": {},
   "outputs": [],
   "source": []
  },
  {
   "cell_type": "code",
   "execution_count": 50,
   "id": "aa51789c",
   "metadata": {},
   "outputs": [],
   "source": [
    "(1e7*(0.3)**(-2.5))/1e9"
   ]
  },
  {
   "cell_type": "code",
   "execution_count": null,
   "id": "6cab4ecb",
   "metadata": {},
   "outputs": [],
   "source": []
  }
 ],
 "metadata": {
  "kernelspec": {
   "display_name": "Python 3 (ipykernel)",
   "language": "python",
   "name": "python3"
  },
  "language_info": {
   "codemirror_mode": {
    "name": "ipython",
    "version": 3
   },
   "file_extension": ".py",
   "mimetype": "text/x-python",
   "name": "python",
   "nbconvert_exporter": "python",
   "pygments_lexer": "ipython3",
   "version": "3.11.6"
  }
 },
 "nbformat": 4,
 "nbformat_minor": 5
}
